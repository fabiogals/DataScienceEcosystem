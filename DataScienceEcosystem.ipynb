{
 "cells": [
  {
   "cell_type": "markdown",
   "id": "edcea555-0973-4d86-aceb-b718d60cada9",
   "metadata": {},
   "source": [
    "# Data Science Tools and Ecosystem"
   ]
  },
  {
   "cell_type": "markdown",
   "id": "b5b014f7-1796-42ac-9d99-f25fb463e5c4",
   "metadata": {},
   "source": [
    "In this notebook, Data Science Tools and Ecosystem are summarized."
   ]
  },
  {
   "cell_type": "markdown",
   "id": "0e9fc200-db7c-4196-a41b-4a19b77bd7f8",
   "metadata": {},
   "source": [
    "**Objectives:**\n",
    "- List popular languages for Data Science;\n",
    "- List popular libraries used by Data Scientists;\n",
    "- List development environment open source tools used in Data Science;\n",
    "- Examples of evaluating arithmetic expressions in Python."
   ]
  },
  {
   "cell_type": "markdown",
   "id": "7cb8df3d-adb5-40d2-8009-a661387759fe",
   "metadata": {},
   "source": [
    "Some of the popular languages that Data Scientists use are:\n",
    "1. Python\n",
    "2. R\n",
    "3. SQL"
   ]
  },
  {
   "cell_type": "markdown",
   "id": "935105d0-d27c-41e3-9014-a78e0b949dd9",
   "metadata": {},
   "source": [
    "Some of the commonly used libraries used by Data Scientists inclue:\n",
    "1. Pandas\n",
    "2. Numpy\n",
    "4. Matplotlib"
   ]
  },
  {
   "cell_type": "markdown",
   "id": "54a375ff-518a-4b12-ad79-b4f092bcc0e2",
   "metadata": {},
   "source": [
    "|Data Science Tools|\n",
    "|------------------|\n",
    "|Jupyter Notebooks|\n",
    "|Apache Zeppelin|\n",
    "|R Studio|"
   ]
  },
  {
   "cell_type": "markdown",
   "id": "905fb62f-8415-4cbc-bb00-7693123b36ae",
   "metadata": {},
   "source": [
    "### Below are a few examples of evaluating arithmetic expressions in Python"
   ]
  },
  {
   "cell_type": "code",
   "execution_count": 9,
   "id": "0fe1b560-4fe2-4c08-a139-8468fee7ebbc",
   "metadata": {},
   "outputs": [
    {
     "data": {
      "text/plain": [
       "17"
      ]
     },
     "execution_count": 9,
     "metadata": {},
     "output_type": "execute_result"
    }
   ],
   "source": [
    "# This is a simple arithmetic expression to multiply then add integers\n",
    "(3*4)+5"
   ]
  },
  {
   "cell_type": "code",
   "execution_count": 11,
   "id": "e5b28abd-f644-4eaa-97b4-9909283f9f9b",
   "metadata": {},
   "outputs": [
    {
     "data": {
      "text/plain": [
       "3.3333333333333335"
      ]
     },
     "execution_count": 11,
     "metadata": {},
     "output_type": "execute_result"
    }
   ],
   "source": [
    "# This will convert 200 minutes to hours by dividing by 60\n",
    "200/60"
   ]
  },
  {
   "cell_type": "markdown",
   "id": "37aa8b13-4036-440b-a141-268cd86ee4ed",
   "metadata": {},
   "source": [
    "## Author\n",
    "Fábio Galdino"
   ]
  }
 ],
 "metadata": {
  "kernelspec": {
   "display_name": "Python [conda env:base] *",
   "language": "python",
   "name": "conda-base-py"
  },
  "language_info": {
   "codemirror_mode": {
    "name": "ipython",
    "version": 3
   },
   "file_extension": ".py",
   "mimetype": "text/x-python",
   "name": "python",
   "nbconvert_exporter": "python",
   "pygments_lexer": "ipython3",
   "version": "3.12.7"
  }
 },
 "nbformat": 4,
 "nbformat_minor": 5
}
